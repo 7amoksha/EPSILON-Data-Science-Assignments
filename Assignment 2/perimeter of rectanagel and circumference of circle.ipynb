{
 "cells": [
  {
   "cell_type": "markdown",
   "metadata": {},
   "source": [
    "# this code for perimiter of rectangle and circumference of circle\n",
    "\n",
    "<img src=\"test/rectangle.jpg\" />\n",
    "\n",
    "<img src=\"test/circle.png\" />\n"
   ]
  },
  {
   "cell_type": "code",
   "execution_count": 1,
   "metadata": {},
   "outputs": [
    {
     "name": "stdout",
     "output_type": "stream",
     "text": [
      "please enter lenghth of rectangle=5\n",
      "please enter  width  of rectanele=5\n",
      "please enter  radius of    circle=5\n",
      "perimeter of rectangle = 20 units\n",
      "cicumference of circle = 31.400000000000002 units\n"
     ]
    }
   ],
   "source": [
    "L = int(input('please enter lenghth of rectangle='))\n",
    "W = int(input('please enter  width  of rectanele='))\n",
    "R = int(input('please enter  radius of    circle='))\n",
    "\n",
    "P=(2*L)+(2*W)\n",
    "C=2*3.14*R\n",
    "\n",
    "print('perimeter of rectangle =',P,'units')\n",
    "\n",
    "print('cicumference of circle =',C,'units')"
   ]
  }
 ],
 "metadata": {
  "kernelspec": {
   "display_name": "Python 3",
   "language": "python",
   "name": "python3"
  },
  "language_info": {
   "codemirror_mode": {
    "name": "ipython",
    "version": 3
   },
   "file_extension": ".py",
   "mimetype": "text/x-python",
   "name": "python",
   "nbconvert_exporter": "python",
   "pygments_lexer": "ipython3",
   "version": "3.8.3"
  }
 },
 "nbformat": 4,
 "nbformat_minor": 4
}
