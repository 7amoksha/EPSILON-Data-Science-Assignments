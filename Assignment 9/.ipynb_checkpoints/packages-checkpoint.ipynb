{
 "cells": [
  {
   "cell_type": "code",
   "execution_count": 1,
   "metadata": {},
   "outputs": [],
   "source": [
    "import mypackages.Operations.Math as m\n",
    "import mypackages.Transformers.stringtransformer as s"
   ]
  },
  {
   "cell_type": "code",
   "execution_count": 2,
   "metadata": {},
   "outputs": [
    {
     "name": "stdout",
     "output_type": "stream",
     "text": [
      "Epsilon\n",
      "nolispe\n",
      "4.5\n"
     ]
    }
   ],
   "source": [
    "x= [1,2,3,4,5,6,7,8]\n",
    "st='epsilon'\n",
    "s.capital(st)\n",
    "s.revers(st)\n",
    "m.get_average(x)"
   ]
  }
 ],
 "metadata": {
  "kernelspec": {
   "display_name": "Python 3",
   "language": "python",
   "name": "python3"
  },
  "language_info": {
   "codemirror_mode": {
    "name": "ipython",
    "version": 3
   },
   "file_extension": ".py",
   "mimetype": "text/x-python",
   "name": "python",
   "nbconvert_exporter": "python",
   "pygments_lexer": "ipython3",
   "version": "3.8.3"
  }
 },
 "nbformat": 4,
 "nbformat_minor": 4
}
