{
 "cells": [
  {
   "cell_type": "code",
   "execution_count": 36,
   "metadata": {},
   "outputs": [],
   "source": [
    "import os\n",
    "import random\n",
    "import string\n",
    "def show_File(File):\n",
    "    return os.listdir(File)\n",
    "x=show_File('Files')\n",
    "for f in x:\n",
    "    e=f.split('.')[-1].upper()\n",
    "    if e == \"MP3\" or e == \"JPG\" :\n",
    "        continue\n",
    "    else :\n",
    "        a = string.ascii_letters\n",
    "        newname = f\"{''.join(random.sample(a,8))}.{e}\"\n",
    "        os.rename(f'Files/{f}', f'Files/{newname}')"
   ]
  },
  {
   "cell_type": "code",
   "execution_count": null,
   "metadata": {},
   "outputs": [],
   "source": []
  }
 ],
 "metadata": {
  "kernelspec": {
   "display_name": "Python 3",
   "language": "python",
   "name": "python3"
  },
  "language_info": {
   "codemirror_mode": {
    "name": "ipython",
    "version": 3
   },
   "file_extension": ".py",
   "mimetype": "text/x-python",
   "name": "python",
   "nbconvert_exporter": "python",
   "pygments_lexer": "ipython3",
   "version": "3.8.3"
  }
 },
 "nbformat": 4,
 "nbformat_minor": 4
}
